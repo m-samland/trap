{
 "cells": [
  {
   "cell_type": "markdown",
   "metadata": {},
   "source": [
    "# How to use TRAP for reducing direct imaging data: a simple example"
   ]
  },
  {
   "cell_type": "markdown",
   "metadata": {},
   "source": [
    "This notebook shows how to apply the TRAP algorithm (Samland et al. 2020) to data that is shifted and pre-aligned with the center of the images. The data included in this package for testing and demonstration purposes is the same (cropped) VLT/SPHERE-IRDIS 51 Eridani b data in the K1 band that has been used in the paper describing the algorithm. This notebook can be used as reference for your own data and data reduction. Don't be scared by the text, this is mostly to provide additional information to, hopefully, mostly self-explanatory docstring and to describe the workflow and caveats. Running the reduction itself is very straightforward. Before going through this notebook, please make sure you installed the package formally using \"pip install .\" in the downloaded git folder, or using the \"-e\" option if you're going to change the code-base itself.\n",
    "\n",
    "Let us start by importing everything we need from generic packages used for data manipulation / plotting and some useful high-level functionality from TRAP. The \"pkg_resource\" package is only used for locating the test data included in this package. If you want to run and modify this notebook, please download it and put it somewhere where you keep your science stuff, you don't want to manipulate it in the git folder since that is messy. :)"
   ]
  },
  {
   "cell_type": "code",
   "execution_count": 1,
   "metadata": {},
   "outputs": [],
   "source": [
    "import os\n",
    "import pkg_resources\n",
    "\n",
    "import matplotlib.pyplot as plt\n",
    "import numpy as np\n",
    "from astropy import units as u\n",
    "from astropy.io import fits"
   ]
  },
  {
   "cell_type": "code",
   "execution_count": 2,
   "metadata": {},
   "outputs": [],
   "source": [
    "from trap.parameters import Instrument, Reduction_parameters\n",
    "from trap.plotting_tools import plot_scale\n",
    "from trap.reduction_wrapper import run_complete_reduction"
   ]
  },
  {
   "cell_type": "markdown",
   "metadata": {},
   "source": [
    "## Setting up the Instrument and Reduction parameters\n",
    "\n",
    "We need the pipeline to be aware of some attributes of the instrument we are using, like the pixel scale to translate coordinates and angular sizes, and the telescope diameter which is needed to compute the theoretical size of the point-spread function of the telescope. For this we create an Instrument-class object. Detector properties such as the read-noise and gain can be additionally specified if you want TRAP to take them into account when modeling the systematics. If you provide a variance data cube that already contains all the uncertainties of the input data later in, just leave them on their default value so that you do not take them into account twice. The example given below is for the test data packaged with the pipeline."
   ]
  },
  {
   "cell_type": "code",
   "execution_count": 3,
   "metadata": {},
   "outputs": [],
   "source": [
    "used_instrument = Instrument(\n",
    "    name='IRDIS',\n",
    "    wavelengths=np.array([2.11]) * u.micron,\n",
    "    pixel_scale=u.pixel_scale(0.01225 * u.arcsec / u.pixel),\n",
    "    telescope_diameter=7.99 * u.m,\n",
    "    detector_gain=1.75,\n",
    "    read_noise=6)"
   ]
  },
  {
   "cell_type": "markdown",
   "metadata": {},
   "source": [
    "Next we need to specify the details of the reduction parameters, i.e. what type of TRAP reduction to we want to perform? What separation range do we want to look at? How should the training set (the reference pixels) be selected on which to train the systematics lightcurve model on? Everything related to the reduction in summarized in the \"Reduction_parameters\"-class. To be honest it is a bit unwieldy with a lot of things that can be tweak and including parameters for functions that are currently still in the testing and developing stage. In general however, the default values should be sensible for most applications and correspond mostly to the settings as shown in the paper. For now we will stick with the default parameters and only explicitly define some parameters that you are likely to play around with or *actually* need to change for your own reduction. We'll dump the results in our home directory for now, but of course you're free to change this!"
   ]
  },
  {
   "cell_type": "code",
   "execution_count": 4,
   "metadata": {},
   "outputs": [],
   "source": [
    "from pathlib import Path\n",
    "result_folder = os.path.join(str(Path.home()), 'trap_test_reduction')"
   ]
  },
  {
   "cell_type": "code",
   "execution_count": 6,
   "metadata": {},
   "outputs": [],
   "source": [
    "reduction_parameters = Reduction_parameters(\n",
    "    search_region_inner_bound=1,\n",
    "    search_region_outer_bound=45,\n",
    "    right_handed=True,\n",
    "    include_noise=False,\n",
    "    yx_known_companion_position=[-35.95, -8.43],\n",
    "    known_companion_contrast=None,\n",
    "    use_multiprocess=False,\n",
    "    ncpus=2,\n",
    "    result_folder=result_folder,\n",
    "    # Reduction and signal masks\n",
    "    autosize_masks_in_lambda_over_d=True,\n",
    "    reduction_mask_size_in_lambda_over_d=1.1,\n",
    "    signal_mask_size_in_lambda_over_d=2.1,\n",
    "    reduction_mask_psf_size=19,\n",
    "    signal_mask_psf_size=19,\n",
    "    # Regressor stuff\n",
    "    annulus_width=5,\n",
    "    add_radial_regressors=True,\n",
    "    include_opposite_regressors=True,\n",
    "    # Contrast curve / normalization stuff\n",
    "    contrast_curve=True,\n",
    "    contrast_curve_sigma=5.,\n",
    "    normalization_width=3,\n",
    "    companion_mask_radius=11)"
   ]
  },
  {
   "cell_type": "markdown",
   "metadata": {},
   "source": [
    "## To explain the above parameters in a bit more detail than what the docstrings say, they should be mostly self-explanatory, but still!\n",
    "\n",
    "- The first two \"search_region\"-parameters define the inner and outer separation for the final detection map that will be created, i.e. this is the separation range (in pixel) in which we will search for companions. As noted in the paper, TRAP can get quite slow if we choose a large outer bound, but in general we don't really care about large separations because TRAP, as a temporal model, is expected to perform better at small separations and loses its edge far out.\n",
    "\n",
    "- The \"right_handed\"-parameter gives the rotation direction of the field-of-view... Honestly, if you're working with a new instrument you just have to try it out, best with a data set where you know that there is a companion so you can check. It depends on the definition of parallactic angles used and exactly how the instrument is designed. For data produced by the SPHERE Data Center the parallactic angles work such, that \"right_handed\" is True, but for most other data I tried TRAP on it was the other way around.\n",
    "\n",
    "- Since TRAP creates a time-series model for a pixel and is trained by non-local pixels, it is important to excluded known companions from the training data. The \"yx_known_companion_position\" allows you to specifiy the relative position of a companion to be excluded from the regressor selection (otherwise, just set it to None or ignore it in the init). Usually you don't know beforehand whether there is a signiicant companion in the data, so you just ignore it in the first run and specifiy it in subsequent reductions for the same data based on the location of the companion in the detection map. Luckily, for the test data we know the location of 51 Eri b already. :)\n",
    "\n",
    "- You can run TRAP on multiple cores, specified by the \"use_multiprocessing\" and if True \"ncpus\" for the number of cores to be used. Running TRAP on multiple cores can significantly decrease the processing time. However, given how right now only a simple \"multiprocessing.pool\" implementation is used, it scales very poorly with memory use (i.e. every core has to have a copy of the whole data). If you run it on a laptop, I'd recommend playing around with small numbers first and monitor your memory usage before going all out. Since the data is cropped automatically to the \"search_region_outer_bound\" size (plus some extra space for regressor selection and such), memory usage goes down sharply with a smaller outer bound of the search area.\n",
    "\n",
    "- The \"result_folder\"-parameter specifies the path to the directory where you want to put the analysis results.\n",
    "\n",
    "- The next parameters specify the size of the PSF stamp to be used in the reduction. First, \"autosize_masks_in_lambda_over_d\" specifies whether you want to give the size in $\\lambda/D$. In this case the next two parameters count (2.1 corresponds roughly to the size of the PSF including the first Airy-ring). If not, you can give a fixed size in pixel using the next two parameters directly. As you can see there are two masks: the \"signal_mask\" and the \"reduction_mask\". The signal mask determines the size of the companion PSF that a companion affects with flux, this is important for removing pixels from the training data that could be contaminated by a planet at the point at which we currently search for a signal. The reduction mask determined the size of the PSF stamp used to determine which pixels to fit with a model given the assumed search position. The signal mask size should always be larger or equal to the reduction mask size. The reduction mask basically corresponds to $\\mathcal{P}_{\\mathcal{Y}}$ in Samland et al. 2020.\n",
    "\n",
    "- Next we have the parameters controlling what to include in the regressors: \"annulus_width\" is the width of the regressor annulus in pixel. If \"add_radial_regressors\" is True pixels radially inside and outside of reduction area will be added to pool of regressor pixels. \"include_opposite_regressors\" includes additional regressors corresponding to the reduction area, but mirrored at the origin (host star).\n",
    "\n",
    "- With the last four parameters above your control contrast curve creation and the empirical calibration of the uncertainties that is used in normalizing the SNR map. Switch on or off the automatic contrast curve creation at the end is mostly for people who work on a remote machine that has troubles plotting. Since making the contrast curve doesn't take any time at all and your computer doesn't have trouble plotting, just keep it on. The \"normalization_width\" is the width of the annulus used for normalizing the SNR map and \"companion_mask_size\" gives the radius of the mask (in pixel) used to mask out the companion in the normalization procedure and contrast curve statistics."
   ]
  },
  {
   "cell_type": "markdown",
   "metadata": {},
   "source": [
    "If you want to learn more about the available options, although it can be a bit overwhelming, feel free to take a look at the docstrings!"
   ]
  },
  {
   "cell_type": "code",
   "execution_count": 7,
   "metadata": {},
   "outputs": [],
   "source": [
    "Instrument?"
   ]
  },
  {
   "cell_type": "code",
   "execution_count": 8,
   "metadata": {},
   "outputs": [],
   "source": [
    "Reduction_parameters?"
   ]
  },
  {
   "cell_type": "markdown",
   "metadata": {},
   "source": [
    "## Reading in the data and some additional information for the reduction\n",
    "\n",
    "Nooooow, we actually need some data! For this example we will use the SPHERE 51 Eri b data packaged in TRAP. We need:\n",
    "\n",
    "- The **data cube** containing the main science observation (usually coronagraphic, but of course it also works on non-coronagraphic sequences too). In the case of running the reduction pre-aligned data (such as in this example), the center is assumed to be centered on the pixel with the index (image_size_y // 2, image_size_x // 2), where \"//\" is the floor-operator in Python.\n",
    "- An **unsaturated model of the PSF** used as forward model for the companion. It should be scaled to the same exposure time and filter (usually there is an neutral density filter) as the science observation.\n",
    "- A list containing the **parallactic angles for each frame**\n",
    "- An astropy quantity array containing the **wavelengths of each channel**.\n",
    "\n",
    "Optionally:\n",
    "- A cube of the same dimension as the science data, containing the **variance for each data point**. If you have this information it is recommended to include it in the fit, as it automatically puts less weight on bad data. If \"include_noise\" is True, the pipeline will first check if a variance cube is provide, otherwise it will assume the data only contains photon noise and the read noise specified in the Instrument-object. This is of course not entirely true if for example your pre-reduction of the data already removed a significant sky background or rescaled the amplitude of the data, so beware of these effects.\n",
    "- A list containing **indices of bad frames**. TRAP is very robust against anomalous frames compared to traditional spatial models, so unless some data seems completely un-usable I wouldn't recommend removing data aggresively or even at all)\n",
    "- An array of **companion flux amplitude modulation factors** (centered around 1). The first axis should be wavelength, the second time. You can account for flux variation in the companion model by, for example, taking into account the frame-to-frame change in satellite spot brightness. The companion signal will be multiplied by this factor in the forward model."
   ]
  },
  {
   "cell_type": "markdown",
   "metadata": {},
   "source": [
    "If the paths of the demo data is not recognized properly on your installation, you can simply change the folder by hand to the directory of the package (or download it separately somewhere else)"
   ]
  },
  {
   "cell_type": "code",
   "execution_count": 9,
   "metadata": {},
   "outputs": [],
   "source": [
    "data_full = fits.getdata(\n",
    "    pkg_resources.resource_filename('trap', 'test_data/science_cube.fits'))\n",
    "flux_psf_full = fits.getdata(\n",
    "    pkg_resources.resource_filename('trap', 'test_data/psf_model.fits'))\n",
    "pa = fits.getdata(\n",
    "    pkg_resources.resource_filename('trap', 'test_data/parallactic_angles.fits'))\n",
    "\n",
    "variance_full = None\n",
    "bad_frames = None\n",
    "amplitude_modulation_full = None"
   ]
  },
  {
   "cell_type": "markdown",
   "metadata": {},
   "source": [
    "The data includes a wavelength dimension (axis=0), but we included only the K1 wavelength in the test data.\n",
    "Let's have a quick peak at the first frame of the (only wavelength). The \"plot_scale\" routine automatically plots the zscale image with colorbar."
   ]
  },
  {
   "cell_type": "code",
   "execution_count": 10,
   "metadata": {},
   "outputs": [
    {
     "data": {
      "text/plain": [
       "<AxesSubplot:xlabel='Offset (pixel)', ylabel='Offset (pixel)'>"
      ]
     },
     "execution_count": 10,
     "metadata": {},
     "output_type": "execute_result"
    },
    {
     "data": {
      "image/png": "[encoded data removed]",
      "text/plain": [
       "<Figure size 216x216 with 2 Axes>"
      ]
     },
     "metadata": {
      "needs_background": "light"
     },
     "output_type": "display_data"
    }
   ],
   "source": [
    "plot_scale(data_full[0, 0], relative_to_center=True)"
   ]
  },
  {
   "cell_type": "markdown",
   "metadata": {},
   "source": [
    "And that's it! For a basic reduction with an already pre-aligned/centered cube this is all that is needed."
   ]
  },
  {
   "cell_type": "markdown",
   "metadata": {},
   "source": [
    "## Setting up the reduction\n",
    "\n",
    "The heavy lifting is already done, we now just have two more high-level parameter we can set."
   ]
  },
  {
   "cell_type": "code",
   "execution_count": 16,
   "metadata": {},
   "outputs": [],
   "source": [
    "wavelength_indices = [0]\n",
    "temporal_components_fraction = [0.2]"
   ]
  },
  {
   "cell_type": "markdown",
   "metadata": {},
   "source": [
    "If you provided a cube with the first axis being wavelength (for example when using an IFS or dual-band imager), you can explicitly specify which wavelength indices you want to reduce. Chosing None or not setting it explicitly a reduction of all wavelengths will be performed.\n",
    "\n",
    "The \"temporal_components_fraction\"-parameter described how many principal components (compared to be maximum available number, i.e. the number of frames in the sequences) you want to use. If more than one entry is provided in the list it will loop over the different options and provide output for all of them."
   ]
  },
  {
   "cell_type": "markdown",
   "metadata": {},
   "source": [
    "## Starting the reduction\n",
    "\n",
    "Running the reduction on one core in the 1 - 45 pixel separation range can take about an hour (with the above parameters). Best time to make coffee or go for a long walk! Or run it one a bigger machine. ;)\n",
    "\n",
    "If you don't want to wait for an hour you can skip further down this notebook, where I show a small targeted reduction that may still be useful in some cases."
   ]
  },
  {
   "cell_type": "code",
   "execution_count": 17,
   "metadata": {},
   "outputs": [
    {
     "name": "stdout",
     "output_type": "stream",
     "text": [
      "Number of principal comp. used: 51 of 256\n",
      "Lambda index: 0 Wavelength: 2.110 micron\n",
      "lam00_ncomp051_frac0.20\n",
      "PSF Size: 11\n",
      "Number of positions: 6360\n"
     ]
    },
    {
     "name": "stderr",
     "output_type": "stream",
     "text": [
      "100%|██████████████████████████████████████████████████████████████████████████████████████████████████████████████████████████████████████████████████████████████████████████████████████████████| 6360/6360 [16:17<00:00,  6.51it/s]\n"
     ]
    },
    {
     "name": "stdout",
     "output_type": "stream",
     "text": [
      "Main reduction computation time:\n",
      "0:16:17.238739\n"
     ]
    }
   ],
   "source": [
    "all_results = run_complete_reduction(\n",
    "    data_full=data_full,\n",
    "    flux_psf_full=flux_psf_full,\n",
    "    pa=pa,\n",
    "    instrument=used_instrument,\n",
    "    reduction_parameters=reduction_parameters,\n",
    "    temporal_components_fraction=temporal_components_fraction,\n",
    "    wavelength_indices=wavelength_indices,\n",
    "    variance_full=variance_full,\n",
    "    bad_frames=bad_frames,\n",
    "    amplitude_modulation_full=amplitude_modulation_full)"
   ]
  },
  {
   "cell_type": "markdown",
   "metadata": {},
   "source": [
    "The (non-normalized) contrast images, as well as the instrument and reduction parameters will be saved in the \"result_folder\", and are ready to be read into the detection and analysis module."
   ]
  },
  {
   "cell_type": "markdown",
   "metadata": {},
   "source": [
    "# Normalization, contrast curves, and detection maps\n",
    "\n",
    "The detection module takes care of everything else that acts on the basic output of TRAP, such as normalizing the detection map and contrast curves, extracting signals and perform spectral template matching on multi-wavelength data (work in progress). Let us first create the object that will encapsulate the analysis for us (for one specific number of principle components used)."
   ]
  },
  {
   "cell_type": "code",
   "execution_count": 19,
   "metadata": {},
   "outputs": [],
   "source": [
    "from trap.detection import DetectionAnalysis\n",
    "\n",
    "component_fraction = temporal_components_fraction[0]\n",
    "analysis = DetectionAnalysis()\n",
    "analysis.read_output(\n",
    "    component_fraction,\n",
    "    result_folder=reduction_parameters.result_folder,\n",
    "    reduction_type='temporal',\n",
    "    read_parameters=True)"
   ]
  },
  {
   "cell_type": "markdown",
   "metadata": {},
   "source": [
    "For now let us perform a normalization of the SNR map (as described in Samland et al. 2021). Masking all pixels above 5-sigma to avoid contamination by very bright sources. This routine will also routine the contrast curves for us. Unless `inplace` is set to False, the output will be put directly into the analysis object as a directionary called `detection_products`."
   ]
  },
  {
   "cell_type": "code",
   "execution_count": 21,
   "metadata": {},
   "outputs": [],
   "source": [
    "detection_threshold = 5.\n",
    "analysis.contrast_table_and_normalization(\n",
    "    mask_above_sigma=detection_threshold)"
   ]
  },
  {
   "cell_type": "code",
   "execution_count": 23,
   "metadata": {},
   "outputs": [
    {
     "data": {
      "text/plain": [
       "dict_keys(['normalized_detection_cube', 'uncertainty_cube', 'median_uncertainty_cube', 'contrast_tables', 'contrast_table'])"
      ]
     },
     "execution_count": 23,
     "metadata": {},
     "output_type": "execute_result"
    }
   ],
   "source": [
    "analysis.detection_products.keys()"
   ]
  },
  {
   "cell_type": "markdown",
   "metadata": {},
   "source": [
    "The `detection_products` contains the `normalized_detection_cube`, which contains the normalized detection map for each wavelength reduced (in this case the length is 1)."
   ]
  },
  {
   "cell_type": "code",
   "execution_count": 24,
   "metadata": {},
   "outputs": [
    {
     "data": {
      "text/plain": [
       "<AxesSubplot:xlabel='Offset (pixel)', ylabel='Offset (pixel)'>"
      ]
     },
     "execution_count": 24,
     "metadata": {},
     "output_type": "execute_result"
    },
    {
     "data": {
      "image/png": "[encoded data removed]",
      "text/plain": [
       "<Figure size 216x216 with 2 Axes>"
      ]
     },
     "metadata": {
      "needs_background": "light"
     },
     "output_type": "display_data"
    }
   ],
   "source": [
    "plot_scale(analysis.detection_products['normalized_detection_cube'][0], relative_to_center=True)"
   ]
  },
  {
   "cell_type": "markdown",
   "metadata": {},
   "source": [
    "As you can see the 51 Eri b signal is clearly detected as the only significant signal. :)\n",
    "\n",
    "If you want to know the contrast of the signal you can just go to the contrast map and read off the rough value from at the position of the planet to get a feeling for the results. The contrast map is the first entry of the \"detection\" output file, the second corresponding to the uncertainties. However, since they are not normalized, it's better to reconstruct the uncertainties from the contrast and normalized SNR map."
   ]
  },
  {
   "cell_type": "code",
   "execution_count": 27,
   "metadata": {},
   "outputs": [
    {
     "data": {
      "text/plain": [
       "(1, 3, 127, 127)"
      ]
     },
     "execution_count": 27,
     "metadata": {},
     "output_type": "execute_result"
    }
   ],
   "source": [
    "analysis.detection_cube.shape"
   ]
  },
  {
   "cell_type": "code",
   "execution_count": 29,
   "metadata": {},
   "outputs": [
    {
     "data": {
      "text/plain": [
       "<AxesSubplot:xlabel='Offset (pixel)', ylabel='Offset (pixel)'>"
      ]
     },
     "execution_count": 29,
     "metadata": {},
     "output_type": "execute_result"
    },
    {
     "data": {
      "image/png": "[encoded data removed]",
      "text/plain": [
       "<Figure size 216x216 with 2 Axes>"
      ]
     },
     "metadata": {
      "needs_background": "light"
     },
     "output_type": "display_data"
    }
   ],
   "source": [
    "plot_scale(analysis.detection_cube[0,0], relative_to_center=True)"
   ]
  },
  {
   "cell_type": "markdown",
   "metadata": {},
   "source": [
    "Further documentation on the usage of the `DetectionAnalysis`-class will be added soon."
   ]
  }
 ],
 "metadata": {
  "kernelspec": {
   "display_name": "Python 3 (ipykernel)",
   "language": "python",
   "name": "python3"
  },
  "language_info": {
   "codemirror_mode": {
    "name": "ipython",
    "version": 3
   },
   "file_extension": ".py",
   "mimetype": "text/x-python",
   "name": "python",
   "nbconvert_exporter": "python",
   "pygments_lexer": "ipython3",
   "version": "3.8.12"
  }
 },
 "nbformat": 4,
 "nbformat_minor": 4
}
